{
 "cells": [
  {
   "cell_type": "code",
   "execution_count": 1,
   "metadata": {},
   "outputs": [],
   "source": [
    "import pandas as pd\n",
    "import numpy as np\n",
    "from sklearn.preprocessing import PolynomialFeatures\n",
    "from sklearn.linear_model import LinearRegression\n",
    "from sklearn.metrics import r2_score\n",
    "import matplotlib.pyplot as plt\n",
    "import seaborn as sns"
   ]
  },
  {
   "cell_type": "markdown",
   "metadata": {},
   "source": [
    "# Read the dataset and prepare data\n"
   ]
  },
  {
   "cell_type": "code",
   "execution_count": 2,
   "metadata": {},
   "outputs": [],
   "source": [
    "df = pd.read_csv('dataset/manufacturing.csv')\n",
    "target = df.columns[-1]\n",
    "features = df.columns[:-1]\n",
    "\n",
    "X = df[features]\n",
    "y = df[target]\n"
   ]
  },
  {
   "cell_type": "markdown",
   "metadata": {},
   "source": [
    "# Helper/Computational Functions"
   ]
  },
  {
   "cell_type": "code",
   "execution_count": 3,
   "metadata": {},
   "outputs": [],
   "source": [
    "def create_poly_features(X, degree=2):\n",
    "    poly = PolynomialFeatures(degree=degree)\n",
    "    return poly.fit_transform(X), poly.get_feature_names_out()\n",
    "\n",
    "def adjusted_r2(r2, n, p):\n",
    "    return 1 - (1 - r2) * (n - 1) / (n - p - 1)\n",
    "\n",
    "def calculate_metrics(X_poly, y, selected_features, method_name):\n",
    "    model = LinearRegression()\n",
    "    model.fit(X_poly[:, selected_features], y)\n",
    "    y_pred = model.predict(X_poly[:, selected_features])\n",
    "    \n",
    "    r2 = r2_score(y, y_pred)\n",
    "    adj_r2 = adjusted_r2(r2, len(y), len(selected_features))\n",
    "    \n",
    "    print(f\"\\n{method_name} Metrics:\")\n",
    "    print(f\"Number of features selected: {len(selected_features)}\")\n",
    "    print(f\"R²: {r2:.4f}\")\n",
    "    print(f\"Adjusted R²: {adj_r2:.4f}\")\n",
    "    \n",
    "    return r2, adj_r2"
   ]
  },
  {
   "cell_type": "markdown",
   "metadata": {},
   "source": [
    "# Backward Elimination"
   ]
  },
  {
   "cell_type": "code",
   "execution_count": 5,
   "metadata": {},
   "outputs": [
    {
     "name": "stdout",
     "output_type": "stream",
     "text": [
      "\n",
      "=== Running Backward Elimination ===\n",
      "\n",
      "Backward Elimination Metrics:\n",
      "Number of features selected: 18\n",
      "R²: 0.8745\n",
      "Adjusted R²: 0.8740\n"
     ]
    },
    {
     "data": {
      "text/plain": [
       "(0.8745362596743205, 0.8739627839694291)"
      ]
     },
     "execution_count": 5,
     "metadata": {},
     "output_type": "execute_result"
    }
   ],
   "source": [
    "def run_backward_elimination():\n",
    "    print(\"\\n=== Running Backward Elimination ===\")\n",
    "    X_poly, feature_names = create_poly_features(X)\n",
    "    selected_features = list(range(len(feature_names)))\n",
    "    \n",
    "    while len(selected_features) > 1:\n",
    "        best_r2 = -np.inf\n",
    "        worst_feature = None\n",
    "        \n",
    "        for feature in selected_features:\n",
    "            current_features = [f for f in selected_features if f != feature]\n",
    "            model = LinearRegression()\n",
    "            model.fit(X_poly[:, current_features], y)\n",
    "            r2 = r2_score(y, model.predict(X_poly[:, current_features]))\n",
    "            \n",
    "            if r2 > best_r2:\n",
    "                best_r2 = r2\n",
    "                worst_feature = feature\n",
    "        \n",
    "        if best_r2 > r2_score(y, LinearRegression().fit(X_poly[:, selected_features], y).predict(X_poly[:, selected_features])):\n",
    "            selected_features.remove(worst_feature)\n",
    "        else:\n",
    "            break\n",
    "    \n",
    "    return calculate_metrics(X_poly, y, selected_features, \"Backward Elimination\")\n",
    "\n",
    "run_backward_elimination()"
   ]
  },
  {
   "cell_type": "markdown",
   "metadata": {},
   "source": [
    "# Forward Elimination"
   ]
  },
  {
   "cell_type": "code",
   "execution_count": 6,
   "metadata": {},
   "outputs": [
    {
     "name": "stdout",
     "output_type": "stream",
     "text": [
      "\n",
      "=== Running Forward Selection ===\n",
      "\n",
      "Forward Selection Metrics:\n",
      "Number of features selected: 3\n",
      "R²: 0.8045\n",
      "Adjusted R²: 0.8044\n"
     ]
    },
    {
     "data": {
      "text/plain": [
       "(0.8045066153463661, 0.8043582520390145)"
      ]
     },
     "execution_count": 6,
     "metadata": {},
     "output_type": "execute_result"
    }
   ],
   "source": [
    "def run_forward_selection():\n",
    "    print(\"\\n=== Running Forward Selection ===\")\n",
    "    X_poly, feature_names = create_poly_features(X)\n",
    "    n_features = X_poly.shape[1]\n",
    "    selected_features = []\n",
    "    \n",
    "    while len(selected_features) < n_features:\n",
    "        best_r2 = -np.inf\n",
    "        best_feature = None\n",
    "        \n",
    "        for feature in range(n_features):\n",
    "            if feature not in selected_features:\n",
    "                current_features = selected_features + [feature]\n",
    "                model = LinearRegression()\n",
    "                model.fit(X_poly[:, current_features], y)\n",
    "                r2 = r2_score(y, model.predict(X_poly[:, current_features]))\n",
    "                \n",
    "                if r2 > best_r2:\n",
    "                    best_r2 = r2\n",
    "                    best_feature = feature\n",
    "        \n",
    "        if best_feature is not None:\n",
    "            if len(selected_features) > 0:\n",
    "                current_r2 = r2_score(y, LinearRegression().fit(X_poly[:, selected_features], y).predict(X_poly[:, selected_features]))\n",
    "                if best_r2 - current_r2 < 0.01:\n",
    "                    break\n",
    "            selected_features.append(best_feature)\n",
    "        else:\n",
    "            break\n",
    "    \n",
    "    return calculate_metrics(X_poly, y, selected_features, \"Forward Selection\")\n",
    "\n",
    "run_forward_selection()"
   ]
  },
  {
   "cell_type": "markdown",
   "metadata": {},
   "source": [
    "# Bidirectional Elimination"
   ]
  },
  {
   "cell_type": "code",
   "execution_count": 7,
   "metadata": {},
   "outputs": [
    {
     "name": "stdout",
     "output_type": "stream",
     "text": [
      "\n",
      "=== Running Bidirectional Selection ===\n",
      "\n",
      "Bidirectional Selection Metrics:\n",
      "Number of features selected: 3\n",
      "R²: 0.8045\n",
      "Adjusted R²: 0.8044\n"
     ]
    },
    {
     "data": {
      "text/plain": [
       "(0.8045066153463661, 0.8043582520390145)"
      ]
     },
     "execution_count": 7,
     "metadata": {},
     "output_type": "execute_result"
    }
   ],
   "source": [
    "def run_bidirectional_selection():\n",
    "    print(\"\\n=== Running Bidirectional Selection ===\")\n",
    "    X_poly, feature_names = create_poly_features(X)\n",
    "    n_features = X_poly.shape[1]\n",
    "    selected_features = []\n",
    "    \n",
    "    while len(selected_features) < n_features:\n",
    "        # Forward step\n",
    "        best_addition = None\n",
    "        best_add_r2 = -np.inf\n",
    "        \n",
    "        for feature in range(n_features):\n",
    "            if feature not in selected_features:\n",
    "                current_features = selected_features + [feature]\n",
    "                model = LinearRegression()\n",
    "                model.fit(X_poly[:, current_features], y)\n",
    "                r2 = r2_score(y, model.predict(X_poly[:, current_features]))\n",
    "                \n",
    "                if r2 > best_add_r2:\n",
    "                    best_add_r2 = r2\n",
    "                    best_addition = feature\n",
    "        \n",
    "        # Backward step\n",
    "        if len(selected_features) > 1:\n",
    "            worst_removal = None\n",
    "            best_remove_r2 = -np.inf\n",
    "            \n",
    "            for feature in selected_features:\n",
    "                current_features = [f for f in selected_features if f != feature]\n",
    "                model = LinearRegression()\n",
    "                model.fit(X_poly[:, current_features], y)\n",
    "                r2 = r2_score(y, model.predict(X_poly[:, current_features]))\n",
    "                \n",
    "                if r2 > best_remove_r2:\n",
    "                    best_remove_r2 = r2\n",
    "                    worst_removal = feature\n",
    "        \n",
    "        # Update features\n",
    "        if best_addition is not None:\n",
    "            if len(selected_features) > 0:\n",
    "                current_r2 = r2_score(y, LinearRegression().fit(X_poly[:, selected_features], y).predict(X_poly[:, selected_features]))\n",
    "                if best_add_r2 - current_r2 < 0.01:\n",
    "                    break\n",
    "            selected_features.append(best_addition)\n",
    "        else:\n",
    "            break\n",
    "    \n",
    "    return calculate_metrics(X_poly, y, selected_features, \"Bidirectional Selection\")\n",
    "\n",
    "run_bidirectional_selection()"
   ]
  },
  {
   "cell_type": "markdown",
   "metadata": {},
   "source": [
    "# Keep All Variables"
   ]
  },
  {
   "cell_type": "code",
   "execution_count": 8,
   "metadata": {},
   "outputs": [
    {
     "name": "stdout",
     "output_type": "stream",
     "text": [
      "\n",
      "=== Running with All Variables ===\n",
      "\n",
      "Keep All Variables Metrics:\n",
      "Number of features selected: 21\n",
      "R²: 0.8568\n",
      "Adjusted R²: 0.8561\n"
     ]
    },
    {
     "data": {
      "text/plain": [
       "(0.8568162644970339, 0.8560521327446673)"
      ]
     },
     "execution_count": 8,
     "metadata": {},
     "output_type": "execute_result"
    }
   ],
   "source": [
    "def run_keep_all_variables():\n",
    "    print(\"\\n=== Running with All Variables ===\")\n",
    "    X_poly, feature_names = create_poly_features(X)\n",
    "    selected_features = list(range(X_poly.shape[1]))\n",
    "    \n",
    "    return calculate_metrics(X_poly, y, selected_features, \"Keep All Variables\")\n",
    "\n",
    "run_keep_all_variables()"
   ]
  }
 ],
 "metadata": {
  "kernelspec": {
   "display_name": "Python 3",
   "language": "python",
   "name": "python3"
  },
  "language_info": {
   "codemirror_mode": {
    "name": "ipython",
    "version": 3
   },
   "file_extension": ".py",
   "mimetype": "text/x-python",
   "name": "python",
   "nbconvert_exporter": "python",
   "pygments_lexer": "ipython3",
   "version": "3.11.6"
  }
 },
 "nbformat": 4,
 "nbformat_minor": 2
}
